{
  "nbformat": 4,
  "nbformat_minor": 0,
  "metadata": {
    "colab": {
      "name": "NN_digital_recognition.ipynb",
      "version": "0.3.2",
      "provenance": [],
      "include_colab_link": true
    },
    "kernelspec": {
      "name": "python3",
      "display_name": "Python 3"
    }
  },
  "cells": [
    {
      "cell_type": "markdown",
      "metadata": {
        "id": "view-in-github",
        "colab_type": "text"
      },
      "source": [
        "<a href=\"https://colab.research.google.com/github/KonstToIT/hello-world/blob/master/NN_digital_recognition.ipynb\" target=\"_parent\"><img src=\"https://colab.research.google.com/assets/colab-badge.svg\" alt=\"Open In Colab\"/></a>"
      ]
    },
    {
      "metadata": {
        "id": "nq3KLxIRGxW6",
        "colab_type": "code",
        "colab": {
          "base_uri": "https://localhost:8080/",
          "height": 1392
        },
        "outputId": "28b607b4-744d-4e64-ac00-6f8cfdb21eb2"
      },
      "cell_type": "code",
      "source": [
        "import numpy\n",
        "from keras.datasets import mnist\n",
        "from keras.models import Sequential\n",
        "from keras.layers import Dense\n",
        "\n",
        "#ты работы с массивами\n",
        "from keras.utils import np_utils\n",
        "\n",
        "# Устанавливаем seed для повторяемости результатов\n",
        "numpy.random.seed(42)\n",
        "\n",
        "# Загружаем данные\n",
        "(X_train, Y_train), (X_test, Y_test) = mnist.load_data()\n",
        "\n",
        "# Преобразование размерности изображений\n",
        "X_train = X_train.reshape(60000, 784)\n",
        "X_test = X_test.reshape(10000, 784)\n",
        "# Нормализация данных\n",
        "X_train = X_train.astype('float32')\n",
        "X_test = X_test.astype('float32')\n",
        "X_train /= 255\n",
        "X_test /= 255\n",
        "\n",
        "# Преобразуем метки в категории\n",
        "Y_train = np_utils.to_categorical(Y_train, 10)\n",
        "Y_test = np_utils.to_categorical(Y_test, 10)\n",
        "\n",
        "# Создаем последовательную модель\n",
        "model = Sequential()\n",
        "\n",
        "# Добавляем уровни сети\n",
        "model.add(Dense(800, input_dim=784, activation=\"relu\", kernel_initializer=\"normal\"))\n",
        "model.add(Dense(800, activation=\"relu\", kernel_initializer=\"normal\"))\n",
        "model.add(Dense(800, activation=\"relu\", kernel_initializer=\"normal\"))\n",
        "model.add(Dense(10, activation=\"softmax\", kernel_initializer=\"normal\"))\n",
        "\n",
        "# Компилируем модель\n",
        "model.compile(loss=\"categorical_crossentropy\", optimizer=\"SGD\", metrics=[\"accuracy\"])\n",
        "\n",
        "print(model.summary())\n",
        "\n",
        "#Обучаем сеть\n",
        "model.fit(X_train,Y_train, batch_size=200, epochs=25, validation_split=0.2, verbose=1)\n",
        "\n",
        "#Запускаем сеть на входных данных\n",
        "predictions = model.predict(X_train)\n",
        "\n",
        "\n",
        "#Оцениваем качество обучения сети на тестовых данных\n",
        "scores = model.evaluate(X_test, Y_test, verbose=1)\n",
        "print(\"Точность работы на тестовых данных: %.2f%%\" % (scores[1]*100))\n",
        "\n"
      ],
      "execution_count": 1,
      "outputs": [
        {
          "output_type": "stream",
          "text": [
            "Using TensorFlow backend.\n"
          ],
          "name": "stderr"
        },
        {
          "output_type": "stream",
          "text": [
            "Downloading data from https://s3.amazonaws.com/img-datasets/mnist.npz\n",
            "11493376/11490434 [==============================] - 2s 0us/step\n",
            "WARNING:tensorflow:From /usr/local/lib/python3.6/dist-packages/tensorflow/python/framework/op_def_library.py:263: colocate_with (from tensorflow.python.framework.ops) is deprecated and will be removed in a future version.\n",
            "Instructions for updating:\n",
            "Colocations handled automatically by placer.\n",
            "_________________________________________________________________\n",
            "Layer (type)                 Output Shape              Param #   \n",
            "=================================================================\n",
            "dense_1 (Dense)              (None, 800)               628000    \n",
            "_________________________________________________________________\n",
            "dense_2 (Dense)              (None, 800)               640800    \n",
            "_________________________________________________________________\n",
            "dense_3 (Dense)              (None, 800)               640800    \n",
            "_________________________________________________________________\n",
            "dense_4 (Dense)              (None, 10)                8010      \n",
            "=================================================================\n",
            "Total params: 1,917,610\n",
            "Trainable params: 1,917,610\n",
            "Non-trainable params: 0\n",
            "_________________________________________________________________\n",
            "None\n",
            "WARNING:tensorflow:From /usr/local/lib/python3.6/dist-packages/tensorflow/python/ops/math_ops.py:3066: to_int32 (from tensorflow.python.ops.math_ops) is deprecated and will be removed in a future version.\n",
            "Instructions for updating:\n",
            "Use tf.cast instead.\n",
            "Train on 48000 samples, validate on 12000 samples\n",
            "Epoch 1/25\n",
            "48000/48000 [==============================] - 15s 311us/step - loss: 1.0045 - acc: 0.7669 - val_loss: 0.4742 - val_acc: 0.8879\n",
            "Epoch 2/25\n",
            "48000/48000 [==============================] - 14s 295us/step - loss: 0.4224 - acc: 0.8909 - val_loss: 0.3428 - val_acc: 0.9085\n",
            "Epoch 3/25\n",
            "48000/48000 [==============================] - 14s 291us/step - loss: 0.3367 - acc: 0.9076 - val_loss: 0.2971 - val_acc: 0.9162\n",
            "Epoch 4/25\n",
            "48000/48000 [==============================] - 14s 296us/step - loss: 0.2974 - acc: 0.9172 - val_loss: 0.2701 - val_acc: 0.9229\n",
            "Epoch 5/25\n",
            "48000/48000 [==============================] - 14s 296us/step - loss: 0.2715 - acc: 0.9242 - val_loss: 0.2513 - val_acc: 0.9287\n",
            "Epoch 6/25\n",
            "48000/48000 [==============================] - 14s 295us/step - loss: 0.2517 - acc: 0.9296 - val_loss: 0.2362 - val_acc: 0.9332\n",
            "Epoch 7/25\n",
            "48000/48000 [==============================] - 14s 292us/step - loss: 0.2361 - acc: 0.9333 - val_loss: 0.2263 - val_acc: 0.9352\n",
            "Epoch 8/25\n",
            "48000/48000 [==============================] - 14s 293us/step - loss: 0.2225 - acc: 0.9376 - val_loss: 0.2162 - val_acc: 0.9393\n",
            "Epoch 9/25\n",
            "48000/48000 [==============================] - 14s 293us/step - loss: 0.2106 - acc: 0.9411 - val_loss: 0.2103 - val_acc: 0.9392\n",
            "Epoch 10/25\n",
            "48000/48000 [==============================] - 14s 292us/step - loss: 0.2004 - acc: 0.9436 - val_loss: 0.1991 - val_acc: 0.9448\n",
            "Epoch 11/25\n",
            "48000/48000 [==============================] - 14s 293us/step - loss: 0.1911 - acc: 0.9457 - val_loss: 0.1892 - val_acc: 0.9467\n",
            "Epoch 12/25\n",
            "48000/48000 [==============================] - 14s 289us/step - loss: 0.1823 - acc: 0.9489 - val_loss: 0.1832 - val_acc: 0.9481\n",
            "Epoch 13/25\n",
            "48000/48000 [==============================] - 14s 294us/step - loss: 0.1743 - acc: 0.9508 - val_loss: 0.1779 - val_acc: 0.9492\n",
            "Epoch 14/25\n",
            "48000/48000 [==============================] - 14s 293us/step - loss: 0.1670 - acc: 0.9529 - val_loss: 0.1733 - val_acc: 0.9518\n",
            "Epoch 15/25\n",
            "48000/48000 [==============================] - 15s 310us/step - loss: 0.1603 - acc: 0.9554 - val_loss: 0.1682 - val_acc: 0.9526\n",
            "Epoch 16/25\n",
            "48000/48000 [==============================] - 14s 299us/step - loss: 0.1540 - acc: 0.9563 - val_loss: 0.1661 - val_acc: 0.9537\n",
            "Epoch 17/25\n",
            "48000/48000 [==============================] - 14s 300us/step - loss: 0.1478 - acc: 0.9585 - val_loss: 0.1590 - val_acc: 0.9545\n",
            "Epoch 18/25\n",
            "48000/48000 [==============================] - 14s 299us/step - loss: 0.1424 - acc: 0.9604 - val_loss: 0.1554 - val_acc: 0.9553\n",
            "Epoch 19/25\n",
            "48000/48000 [==============================] - 14s 299us/step - loss: 0.1374 - acc: 0.9610 - val_loss: 0.1509 - val_acc: 0.9577\n",
            "Epoch 20/25\n",
            "48000/48000 [==============================] - 14s 297us/step - loss: 0.1326 - acc: 0.9627 - val_loss: 0.1497 - val_acc: 0.9574\n",
            "Epoch 21/25\n",
            "48000/48000 [==============================] - 14s 298us/step - loss: 0.1276 - acc: 0.9639 - val_loss: 0.1455 - val_acc: 0.9580\n",
            "Epoch 22/25\n",
            "48000/48000 [==============================] - 14s 298us/step - loss: 0.1233 - acc: 0.9655 - val_loss: 0.1409 - val_acc: 0.9583\n",
            "Epoch 23/25\n",
            "48000/48000 [==============================] - 14s 297us/step - loss: 0.1190 - acc: 0.9667 - val_loss: 0.1390 - val_acc: 0.9593\n",
            "Epoch 24/25\n",
            "48000/48000 [==============================] - 14s 295us/step - loss: 0.1150 - acc: 0.9683 - val_loss: 0.1368 - val_acc: 0.9608\n",
            "Epoch 25/25\n",
            "48000/48000 [==============================] - 14s 296us/step - loss: 0.1115 - acc: 0.9693 - val_loss: 0.1336 - val_acc: 0.9618\n",
            "10000/10000 [==============================] - 2s 180us/step\n",
            "Точность работы на тестовых данных: 96.19%\n"
          ],
          "name": "stdout"
        }
      ]
    },
    {
      "metadata": {
        "id": "mmqp_G7KIiap",
        "colab_type": "code",
        "colab": {
          "base_uri": "https://localhost:8080/",
          "height": 52
        },
        "outputId": "413562bc-1f00-4512-bdad-435479a7a53c"
      },
      "cell_type": "code",
      "source": [
        "print(\"Сохраняем сеть\")\n",
        "# Сохраняем сеть для последующего использования\n",
        "# Генерируем описание модели в формате json\n",
        "model_json = model.to_json()\n",
        "json_file = open(\"mnist_model.json\", \"w\")\n",
        "# Записываем архитектуру сети в файл\n",
        "json_file.write(model_json)\n",
        "json_file.close()\n",
        "# Записываем данные о весах в файл\n",
        "model.save_weights(\"mnist_model.h5\")\n",
        "print(\"Сохранение сети завершено\")"
      ],
      "execution_count": 2,
      "outputs": [
        {
          "output_type": "stream",
          "text": [
            "Сохраняем сеть\n",
            "Сохранение сети завершено\n"
          ],
          "name": "stdout"
        }
      ]
    }
  ]
}