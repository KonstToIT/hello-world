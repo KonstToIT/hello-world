{
  "nbformat": 4,
  "nbformat_minor": 0,
  "metadata": {
    "colab": {
      "name": "NN_digital_recognition_mnist",
      "version": "0.3.2",
      "provenance": [],
      "collapsed_sections": [],
      "toc_visible": true,
      "include_colab_link": true
    },
    "kernelspec": {
      "display_name": "Python 3",
      "name": "python3"
    }
  },
  "cells": [
    {
      "cell_type": "markdown",
      "metadata": {
        "id": "view-in-github",
        "colab_type": "text"
      },
      "source": [
        "<a href=\"https://colab.research.google.com/github/KonstToIT/hello-world/blob/master/NN_digital_recognition_mnist.ipynb\" target=\"_parent\"><img src=\"https://colab.research.google.com/assets/colab-badge.svg\" alt=\"Open In Colab\"/></a>"
      ]
    },
    {
      "metadata": {
        "colab_type": "text",
        "id": "5fCEDCU_qrC0"
      },
      "cell_type": "markdown",
      "source": [
        "<img height=\"45px\" src=\"https://colab.research.google.com/img/colab_favicon.ico\" align=\"left\" hspace=\"10px\" vspace=\"0px\">\n",
        "\n",
        "<h1>Welcome to Colaboratory!</h1>\n",
        "\n",
        "Colaboratory is a free Jupyter notebook environment that requires no setup and runs entirely in the cloud.\n",
        "\n",
        "With Colaboratory you can write and execute code, save and share your analyses, and access powerful computing resources, all for free from your browser."
      ]
    },
    {
      "metadata": {
        "cellView": "form",
        "colab_type": "code",
        "id": "xitplqMNk_Hc",
        "outputId": "c131d366-0cdf-424e-8fdf-5057d108e83a",
        "colab": {
          "base_uri": "https://localhost:8080/",
          "height": 421
        }
      },
      "cell_type": "code",
      "source": [
        "#@title Introducing Colaboratory\n",
        "#@markdown This 3-minute video gives an overview of the key features of Colaboratory:\n",
        "from IPython.display import YouTubeVideo\n",
        "YouTubeVideo('inN8seMm7UI', width=600, height=400)"
      ],
      "execution_count": 0,
      "outputs": [
        {
          "output_type": "execute_result",
          "data": {
            "text/html": [
              "\n",
              "        <iframe\n",
              "            width=\"600\"\n",
              "            height=\"400\"\n",
              "            src=\"https://www.youtube.com/embed/inN8seMm7UI\"\n",
              "            frameborder=\"0\"\n",
              "            allowfullscreen\n",
              "        ></iframe>\n",
              "        "
            ],
            "text/plain": [
              "<IPython.lib.display.YouTubeVideo at 0x7f85a5197160>"
            ],
            "image/jpeg": "[encoded data removed]"
          },
          "metadata": {
            "tags": []
          },
          "execution_count": 1
        }
      ]
    },
    {
      "metadata": {
        "id": "QfLs2K6Q2ELc",
        "colab_type": "code",
        "outputId": "849d18ca-083b-4db7-c1a5-64094db843e4",
        "colab": {
          "base_uri": "https://localhost:8080/",
          "height": 1357
        }
      },
      "cell_type": "code",
      "source": [
        "\n"
      ],
      "execution_count": 0,
      "outputs": [
        {
          "output_type": "stream",
          "text": [
            "Using TensorFlow backend.\n"
          ],
          "name": "stderr"
        },
        {
          "output_type": "stream",
          "text": [
            "Downloading data from https://s3.amazonaws.com/img-datasets/mnist.npz\n",
            "11493376/11490434 [==============================] - 1s 0us/step\n",
            "WARNING:tensorflow:From /usr/local/lib/python3.6/dist-packages/tensorflow/python/framework/op_def_library.py:263: colocate_with (from tensorflow.python.framework.ops) is deprecated and will be removed in a future version.\n",
            "Instructions for updating:\n",
            "Colocations handled automatically by placer.\n",
            "_________________________________________________________________\n",
            "Layer (type)                 Output Shape              Param #   \n",
            "=================================================================\n",
            "dense_1 (Dense)              (None, 1000)              785000    \n",
            "_________________________________________________________________\n",
            "dense_2 (Dense)              (None, 1000)              1001000   \n",
            "_________________________________________________________________\n",
            "dense_3 (Dense)              (None, 10)                10010     \n",
            "=================================================================\n",
            "Total params: 1,796,010\n",
            "Trainable params: 1,796,010\n",
            "Non-trainable params: 0\n",
            "_________________________________________________________________\n",
            "None\n",
            "WARNING:tensorflow:From /usr/local/lib/python3.6/dist-packages/tensorflow/python/ops/math_ops.py:3066: to_int32 (from tensorflow.python.ops.math_ops) is deprecated and will be removed in a future version.\n",
            "Instructions for updating:\n",
            "Use tf.cast instead.\n",
            "Train on 48000 samples, validate on 12000 samples\n",
            "Epoch 1/25\n",
            "48000/48000 [==============================] - 13s 278us/step - loss: 1.0065 - acc: 0.7584 - val_loss: 0.5185 - val_acc: 0.8747\n",
            "Epoch 2/25\n",
            "48000/48000 [==============================] - 13s 277us/step - loss: 0.4613 - acc: 0.8824 - val_loss: 0.3742 - val_acc: 0.9002\n",
            "Epoch 3/25\n",
            "48000/48000 [==============================] - 13s 272us/step - loss: 0.3686 - acc: 0.9007 - val_loss: 0.3211 - val_acc: 0.9129\n",
            "Epoch 4/25\n",
            "48000/48000 [==============================] - 13s 274us/step - loss: 0.3247 - acc: 0.9111 - val_loss: 0.2921 - val_acc: 0.9187\n",
            "Epoch 5/25\n",
            "48000/48000 [==============================] - 13s 276us/step - loss: 0.2972 - acc: 0.9179 - val_loss: 0.2710 - val_acc: 0.9253\n",
            "Epoch 6/25\n",
            "48000/48000 [==============================] - 13s 274us/step - loss: 0.2769 - acc: 0.9228 - val_loss: 0.2564 - val_acc: 0.9274\n",
            "Epoch 7/25\n",
            "48000/48000 [==============================] - 13s 272us/step - loss: 0.2608 - acc: 0.9276 - val_loss: 0.2430 - val_acc: 0.9325\n",
            "Epoch 8/25\n",
            "48000/48000 [==============================] - 13s 281us/step - loss: 0.2477 - acc: 0.9313 - val_loss: 0.2329 - val_acc: 0.9365\n",
            "Epoch 9/25\n",
            "48000/48000 [==============================] - 14s 282us/step - loss: 0.2362 - acc: 0.9344 - val_loss: 0.2236 - val_acc: 0.9393\n",
            "Epoch 10/25\n",
            "48000/48000 [==============================] - 13s 271us/step - loss: 0.2262 - acc: 0.9365 - val_loss: 0.2165 - val_acc: 0.9404\n",
            "Epoch 11/25\n",
            "48000/48000 [==============================] - 13s 275us/step - loss: 0.2173 - acc: 0.9391 - val_loss: 0.2101 - val_acc: 0.9423\n",
            "Epoch 12/25\n",
            "48000/48000 [==============================] - 13s 276us/step - loss: 0.2093 - acc: 0.9416 - val_loss: 0.2026 - val_acc: 0.9438\n",
            "Epoch 13/25\n",
            "48000/48000 [==============================] - 13s 273us/step - loss: 0.2020 - acc: 0.9433 - val_loss: 0.1968 - val_acc: 0.9453\n",
            "Epoch 14/25\n",
            "48000/48000 [==============================] - 13s 269us/step - loss: 0.1953 - acc: 0.9454 - val_loss: 0.1911 - val_acc: 0.9467\n",
            "Epoch 15/25\n",
            "48000/48000 [==============================] - 13s 268us/step - loss: 0.1889 - acc: 0.9468 - val_loss: 0.1871 - val_acc: 0.9473\n",
            "Epoch 16/25\n",
            "48000/48000 [==============================] - 13s 272us/step - loss: 0.1828 - acc: 0.9490 - val_loss: 0.1827 - val_acc: 0.9491\n",
            "Epoch 17/25\n",
            "48000/48000 [==============================] - 13s 277us/step - loss: 0.1778 - acc: 0.9502 - val_loss: 0.1780 - val_acc: 0.9503\n",
            "Epoch 18/25\n",
            "48000/48000 [==============================] - 13s 269us/step - loss: 0.1726 - acc: 0.9519 - val_loss: 0.1739 - val_acc: 0.9516\n",
            "Epoch 19/25\n",
            "48000/48000 [==============================] - 13s 271us/step - loss: 0.1676 - acc: 0.9533 - val_loss: 0.1699 - val_acc: 0.9517\n",
            "Epoch 20/25\n",
            "48000/48000 [==============================] - 13s 272us/step - loss: 0.1629 - acc: 0.9545 - val_loss: 0.1664 - val_acc: 0.9543\n",
            "Epoch 21/25\n",
            "48000/48000 [==============================] - 13s 277us/step - loss: 0.1587 - acc: 0.9559 - val_loss: 0.1631 - val_acc: 0.9546\n",
            "Epoch 22/25\n",
            "48000/48000 [==============================] - 13s 274us/step - loss: 0.1545 - acc: 0.9571 - val_loss: 0.1600 - val_acc: 0.9552\n",
            "Epoch 23/25\n",
            "48000/48000 [==============================] - 13s 276us/step - loss: 0.1507 - acc: 0.9580 - val_loss: 0.1572 - val_acc: 0.9557\n",
            "Epoch 24/25\n",
            "48000/48000 [==============================] - 13s 275us/step - loss: 0.1469 - acc: 0.9596 - val_loss: 0.1549 - val_acc: 0.9563\n",
            "Epoch 25/25\n",
            "48000/48000 [==============================] - 13s 273us/step - loss: 0.1433 - acc: 0.9603 - val_loss: 0.1516 - val_acc: 0.9577\n",
            "10000/10000 [==============================] - 2s 160us/step\n",
            "Точность работы на тестовых данных: 95.60%\n"
          ],
          "name": "stdout"
        }
      ]
    },
    {
      "metadata": {
        "id": "cGJpJCIZ4eGT",
        "colab_type": "code",
        "colab": {}
      },
      "cell_type": "code",
      "source": [
        ""
      ],
      "execution_count": 0,
      "outputs": []
    },
    {
      "metadata": {
        "id": "UzBJTc9B4f9J",
        "colab_type": "text"
      },
      "cell_type": "markdown",
      "source": [
        "# New Section"
      ]
    },
    {
      "metadata": {
        "colab_type": "text",
        "id": "GJBs_flRovLc"
      },
      "cell_type": "markdown",
      "source": [
        "## Getting Started\n",
        "\n",
        "The document you are reading is a  [Jupyter notebook](https://jupyter.org/), hosted in Colaboratory. It is not a static page, but an interactive environment that lets you write and execute code in Python and other languages.\n",
        "\n",
        "For example, here is a **code cell** with a short Python script that computes a value, stores it in a variable, and prints the result:"
      ]
    },
    {
      "metadata": {
        "colab_type": "code",
        "id": "gJr_9dXGpJ05",
        "outputId": "5626194c-e802-4293-942d-2908885c3c1f",
        "colab": {
          "height": 35
        }
      },
      "cell_type": "code",
      "source": [
        "seconds_in_a_day = 24 * 60 * 60\n",
        "seconds_in_a_day"
      ],
      "execution_count": 0,
      "outputs": [
        {
          "output_type": "execute_result",
          "data": {
            "text/plain": [
              "86400"
            ]
          },
          "metadata": {
            "tags": []
          },
          "execution_count": 0
        }
      ]
    },
    {
      "metadata": {
        "colab_type": "text",
        "id": "2fhs6GZ4qFMx"
      },
      "cell_type": "markdown",
      "source": [
        "To execute the code in the above cell, select it with a click and then either press the ▷ button to the left of the code, or use the keyboard shortcut \"⌘/Ctrl+Enter\".\n",
        "\n",
        "All cells modify the same global state, so variables that you define by executing a cell can be used in other cells:"
      ]
    },
    {
      "metadata": {
        "colab_type": "code",
        "id": "-gE-Ez1qtyIA",
        "outputId": "8d2e4259-4682-4e19-b683-7b9087f28820",
        "colab": {
          "height": 35
        }
      },
      "cell_type": "code",
      "source": [
        "seconds_in_a_week = 7 * seconds_in_a_day\n",
        "seconds_in_a_week"
      ],
      "execution_count": 0,
      "outputs": [
        {
          "output_type": "execute_result",
          "data": {
            "text/plain": [
              "604800"
            ]
          },
          "metadata": {
            "tags": []
          },
          "execution_count": 0
        }
      ]
    },
    {
      "metadata": {
        "colab_type": "text",
        "id": "lSrWNr3MuFUS"
      },
      "cell_type": "markdown",
      "source": [
        "For more information about working with Colaboratory notebooks, see [Overview of Colaboratory](/notebooks/basic_features_overview.ipynb).\n"
      ]
    },
    {
      "metadata": {
        "colab_type": "text",
        "id": "-Rh3-Vt9Nev9"
      },
      "cell_type": "markdown",
      "source": [
        "## More Resources\n",
        "\n",
        "Learn how to make the most of Python, Jupyter, Colaboratory, and related tools with these resources:\n",
        "\n",
        "### Working with Notebooks in Colaboratory\n",
        "- [Overview of Colaboratory](/notebooks/basic_features_overview.ipynb)\n",
        "- [Guide to Markdown](/notebooks/markdown_guide.ipynb)\n",
        "- [Importing libraries and installing dependencies](/notebooks/snippets/importing_libraries.ipynb)\n",
        "- [Saving and loading notebooks in GitHub](https://colab.research.google.com/github/googlecolab/colabtools/blob/master/notebooks/colab-github-demo.ipynb)\n",
        "- [Interactive forms](/notebooks/forms.ipynb)\n",
        "- [Interactive widgets](/notebooks/widgets.ipynb)\n",
        "\n",
        "### Working with Data\n",
        "- [Loading data: Drive, Sheets, and Google Cloud Storage](/notebooks/io.ipynb) \n",
        "- [Charts: visualizing data](/notebooks/charts.ipynb)\n",
        "- [Getting started with BigQuery](/notebooks/bigquery.ipynb)\n",
        "\n",
        "### Machine Learning Crash Course\n",
        "These are a few of the notebooks from Google's online Machine Learning course. See the [full course website](https://developers.google.com/machine-learning/crash-course/) for more.\n",
        "- [Intro to Pandas](/notebooks/mlcc/intro_to_pandas.ipynb)\n",
        "- [Tensorflow concepts](/notebooks/mlcc/tensorflow_programming_concepts.ipynb)\n",
        "- [First steps with TensorFlow](/notebooks/mlcc/first_steps_with_tensor_flow.ipynb)\n",
        "- [Intro to neural nets](/notebooks/mlcc/intro_to_neural_nets.ipynb)\n",
        "- [Intro to sparse data and embeddings](/notebooks/mlcc/intro_to_sparse_data_and_embeddings.ipynb)\n",
        "\n",
        "### Using Accelerated Hardware\n",
        "- [TensorFlow with GPUs](/notebooks/gpu.ipynb)\n",
        "- [TensorFlow with TPUs](/notebooks/tpu.ipynb)"
      ]
    },
    {
      "metadata": {
        "colab_type": "text",
        "id": "P-H6Lw1vyNNd"
      },
      "cell_type": "markdown",
      "source": [
        "## Machine Learning Examples: Seedbank\n",
        "\n",
        "To see end-to-end examples of the interactive machine learning analyses that Colaboratory makes possible, check out the [Seedbank](https://research.google.com/seedbank/) project.\n",
        "\n",
        "A few featured examples:\n",
        "\n",
        "- [Neural Style Transfer](https://research.google.com/seedbank/seed/neural_style_transfer_with_tfkeras): Use deep learning to transfer style between images.\n",
        "- [EZ NSynth](https://research.google.com/seedbank/seed/ez_nsynth): Synthesize audio with WaveNet auto-encoders.\n",
        "- [Fashion MNIST with Keras and TPUs](https://research.google.com/seedbank/seed/fashion_mnist_with_keras_and_tpus): Classify fashion-related images with deep learning.\n",
        "- [DeepDream](https://research.google.com/seedbank/seed/deepdream): Produce DeepDream images from your own photos.\n",
        "- [Convolutional VAE](https://research.google.com/seedbank/seed/convolutional_vae): Create a generative model of handwritten digits."
      ]
    },
    {
      "metadata": {
        "id": "l9xZg_ql4Jtf",
        "colab_type": "code",
        "colab": {}
      },
      "cell_type": "code",
      "source": [
        ""
      ],
      "execution_count": 0,
      "outputs": []
    }
  ]
}